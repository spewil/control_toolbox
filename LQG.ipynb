{
 "cells": [
  {
   "cell_type": "code",
   "execution_count": 1,
   "metadata": {},
   "outputs": [],
   "source": [
    "%matplotlib inline\n",
    "import numpy as np\n",
    "from matplotlib import pyplot as plt"
   ]
  },
  {
   "cell_type": "markdown",
   "metadata": {},
   "source": [
    "# Notes / Todo\n",
    "\n",
    "- Implement Kalman half of SDN\n",
    "- Implement Kalman half of vanilla \n",
    "- Debug SDN solution\n"
   ]
  },
  {
   "cell_type": "markdown",
   "metadata": {},
   "source": [
    "# LQR \n",
    "\n",
    "### Parameters  \n",
    "\n",
    "Finite-Horizon Dynamics\n",
    "\n",
    "$x_{t+1} = A_tx_t + B_tu_t$ \n",
    "\n",
    "$t \\in \\{0,...,T\\}$\n",
    "\n",
    "Cost to minimize\n",
    "\n",
    "$J_{T}(u) = \\sum_{t=0}^{N-1}{x_t^TQ_tx_t + u_t^TR_tu_t + x_T^TQ_Tx_T}$\n",
    "\n",
    "Control Law\n",
    "\n",
    "$u_t^*(x) = -L_tx$\n",
    "\n",
    "$L_t = -(R_t+B^TS_{t+1}B)^{-1}(B^TS_{t+1}A)x$\n",
    "\n",
    "Optimal Cost-to-Go Solution\n",
    "\n",
    "$S_t = A^TS_{t+1}A - (A^TS_{t+1}B)(R + B^TS_{t+1}B)^{-1}(B^TS_{t+1}A) + Q_t$\n",
    "\n",
    "$S_T = Q_T$\n"
   ]
  },
  {
   "cell_type": "code",
   "execution_count": 2,
   "metadata": {},
   "outputs": [
    {
     "name": "stderr",
     "output_type": "stream",
     "text": [
      "/Users/spencerw/miniconda3/envs/bmi/lib/python3.6/site-packages/ipykernel_launcher.py:3: DeprecationWarning: object of type <class 'float'> cannot be safely interpreted as an integer.\n",
      "  This is separate from the ipykernel package so we can avoid doing imports until\n"
     ]
    }
   ],
   "source": [
    "dt = 0.010 # sec \n",
    "T = 5 # sec\n",
    "times = np.linspace(0,T,T/dt)\n",
    "\n",
    "# hyperparams \n",
    "tau = 0.040 # 40ms, exponential filter constant \n",
    "m = 1\n",
    "r = 0.002\n",
    "noise_mag = .001\n",
    "wv = 0.01\n",
    "wf = 0.001\n",
    "\n",
    "# path \n",
    "targets = [\n",
    "    (5,5,1*len(times)//5),\n",
    "    (10,5,2*len(times)//5),\n",
    "    (10,10,3*len(times)//5),\n",
    "    (5,10,4*len(times)//5)\n",
    "]\n",
    "endpoint = [0,0]\n",
    "\n",
    "# initial conditions \n",
    "px0 = 0.1\n",
    "py0 = 0.1\n",
    "vx0 = 0.1\n",
    "vy0 = 0.1 \n",
    "fx0 = 0.0\n",
    "fy0 = 0.0\n",
    "x = np.array([px0, py0, vx0, vy0, fx0, fy0, 1]).reshape(-1,1)\n",
    "\n",
    "# dynamics \n",
    "A = np.eye(x.shape[0])\n",
    "A[0][2] = dt \n",
    "A[1][3] = dt \n",
    "A[2][4] = dt/m\n",
    "A[3][5] = dt/m\n",
    "A[4][4] = np.exp(-dt/tau)\n",
    "A[5][5] = np.exp(-dt/tau)\n",
    "\n",
    "# dynamics noise \n",
    "Omega = np.eye(x.shape[0])\n",
    "def sample_state_noise(x):\n",
    "    return noise_mag*np.random.multivariate_normal(np.zeros(x.shape[0]),Omega).reshape(-1,1)\n",
    "\n",
    "## task error\n",
    "# via points \n",
    "D_targets = [np.array([\n",
    "            [-1,  0, 0, 0, 0, 0, target[0]],\\\n",
    "            [0, -1, 0, 0, 0, 0, target[1]]])\\\n",
    "          for target in targets\\\n",
    "         ]\n",
    "# end point \n",
    "D_end = np.array([\n",
    "    [-1, 0, 0,  0,  0,  0,  endpoint[0]],\\\n",
    "    [0, -1, 0,  0,  0,  0,  endpoint[1]],\\\n",
    "    [0,  0, wv, 0,  0,  0,  0],\\\n",
    "    [0,  0, 0,  wv, 0,  0,  0],\\\n",
    "    [0,  0, 0,  0,  wf, 0,  0],\\\n",
    "    [0,  0, 0,  0,  0,  wf, 0],\\\n",
    "])\n",
    "Q_list = []\n",
    "ttimes = [t[2] for t in targets]\n",
    "for i,t in enumerate(times):\n",
    "    # add constraints to list of zero matrices \n",
    "    if i == len(times)-1: \n",
    "        Q_list.append((1/(len(D_targets)+1))*(D_end.T@D_end))\n",
    "    elif np.any(i in ttimes):\n",
    "        t_index = np.where(ttimes == i*np.ones(len(ttimes)))[0][0]\n",
    "        # (add targets at specified times)\n",
    "        Q_list.append((1/(len(D_targets)+1))*(D_targets[t_index].T@D_targets[t_index]))\n",
    "    else:\n",
    "        Q_list.append(np.zeros((x.shape[0],x.shape[0])))\n",
    "# control acts on force\n",
    "# dynamic \n",
    "B = np.array(\\\n",
    "    [[0,0],\\\n",
    "     [0,0],\\\n",
    "     [0,0],\\\n",
    "     [0,0],\\\n",
    "     [1,0],\\\n",
    "     [0,1],\\\n",
    "     [0,0]])\n",
    "# cost \n",
    "R = r*np.eye(2)/len(times)\n",
    "\n",
    "def backward_recurse(A,B,R,Q,S): \n",
    "    return A.T@S@A - (A.T@S@B)@np.linalg.inv(R + B.T@S@B)@(B.T@S@A) + Q\n",
    "\n",
    "def compute_law(A,B,R,Q,S):\n",
    "    return -np.linalg.inv(R + B.T@S@B)@(B.T@S@A)"
   ]
  },
  {
   "cell_type": "code",
   "execution_count": 3,
   "metadata": {},
   "outputs": [
    {
     "name": "stdout",
     "output_type": "stream",
     "text": [
      "500 timesteps | 499 control inputs\n"
     ]
    }
   ],
   "source": [
    "# compute control law\n",
    "Q = Q_list[-1]\n",
    "S = Q_list[-1]\n",
    "S_list = [S]\n",
    "L_list = []\n",
    "for Q in Q_list[-2::-1]: # no control at last time \n",
    "    L = compute_law(A,B,R,Q,S)\n",
    "    S = backward_recurse(A,B,R,Q,S)\n",
    "    S_list.append(S)\n",
    "    L_list.append(L)\n",
    "L_list = L_list[::-1]\n",
    "S_list = S_list[::-1]\n",
    "print(f\"{len(S_list)} timesteps | {len(L_list)} control inputs\")\n",
    "\n",
    "# main loop \n",
    "x_list = [x]\n",
    "u_list = []\n",
    "for i,t in enumerate(times):\n",
    "    if i != len(times)-1:\n",
    "        # compute control\n",
    "        u = L_list[i]@x\n",
    "        u_list.append(u)\n",
    "    # run dynamic\n",
    "    x = A@x + B@u + sample_state_noise(x)\n",
    "    x_list.append(x.reshape(-1,1))\n"
   ]
  },
  {
   "cell_type": "code",
   "execution_count": 4,
   "metadata": {},
   "outputs": [
    {
     "data": {
      "text/plain": [
       "<matplotlib.patches.Circle at 0x11b3ec470>"
      ]
     },
     "execution_count": 4,
     "metadata": {},
     "output_type": "execute_result"
    },
    {
     "data": {
      "image/png": "[encoded data removed]",
      "text/plain": [
       "<Figure size 432x288 with 1 Axes>"
      ]
     },
     "metadata": {
      "needs_background": "light"
     },
     "output_type": "display_data"
    }
   ],
   "source": [
    "from matplotlib import cm\n",
    "fig = plt.figure()\n",
    "ax = fig.add_subplot(1,1,1)\n",
    "ax.axis('square')\n",
    "lim = 20\n",
    "ax.set_xlim(-1,lim)\n",
    "ax.set_ylim(-1,lim)\n",
    "posx = [x[0] for x in x_list]\n",
    "posy = [x[1] for x in x_list]\n",
    "vel_mag = [np.sqrt(x[2]**2+x[3]**2)[0] for x in x_list]\n",
    "\n",
    "steps=10\n",
    "c = np.asarray(vel_mag)\n",
    "c -= np.min(c)\n",
    "c = c/np.max(c)\n",
    "it=0\n",
    "while it<c.size-steps:\n",
    "    x_segm = posx[it:it+steps+1]\n",
    "    y_segm = posy[it:it+steps+1]\n",
    "    c_segm = plt.cm.jet( c[it+steps//2] )\n",
    "    ax.plot(x_segm, y_segm, c=c_segm)\n",
    "    it += steps\n",
    "\n",
    "\n",
    "for i, target in enumerate(targets):\n",
    "    ax.add_artist(plt.Circle((target[0],target[1]),0.5,color='r'))\n",
    "    ax.add_artist(plt.Text(target[0],target[1],str(i+1),FontSize=14))\n",
    "ax.add_artist(plt.Circle((endpoint[0],endpoint[1]),0.5,color='g'))"
   ]
  },
  {
   "cell_type": "code",
   "execution_count": 6,
   "metadata": {},
   "outputs": [
    {
     "data": {
      "text/plain": [
       "[<matplotlib.lines.Line2D at 0x11b69aba8>]"
      ]
     },
     "execution_count": 6,
     "metadata": {},
     "output_type": "execute_result"
    },
    {
     "data": {
      "image/png": "[encoded data removed]",
      "text/plain": [
       "<Figure size 432x288 with 1 Axes>"
      ]
     },
     "metadata": {
      "needs_background": "light"
     },
     "output_type": "display_data"
    },
    {
     "data": {
      "image/png": "[encoded data removed]",
      "text/plain": [
       "<Figure size 432x288 with 1 Axes>"
      ]
     },
     "metadata": {
      "needs_background": "light"
     },
     "output_type": "display_data"
    }
   ],
   "source": [
    "plt.figure()\n",
    "plt.plot([u[0] for u in u_list])\n",
    "plt.plot([u[1] for u in u_list],'r')\n",
    "plt.figure()\n",
    "L_eigs = []\n",
    "for L in L_list:\n",
    "    L_eigs.append(np.linalg.eig(L.T@L)[0][0])\n",
    "plt.plot(L_eigs)"
   ]
  },
  {
   "cell_type": "markdown",
   "metadata": {},
   "source": [
    "## LQG + SDN"
   ]
  },
  {
   "cell_type": "markdown",
   "metadata": {},
   "source": [
    "We want to compare the vanilla noise setup to Todorov's signal-dependent noise LQG solution to understand the if this noise model change adjust the control law in an appreciable way. "
   ]
  },
  {
   "cell_type": "markdown",
   "metadata": {},
   "source": [
    "### Setup\n",
    "\n",
    "Dynamics \n",
    "\n",
    "$x_{t+1} = Ax_t + Bu_t + \\sum_{t=0}^T{C_t}u_t\\xi_t$\n",
    "\n",
    "Observations\n",
    "\n",
    "$y_t = Hx_t + \\omega_t$\n",
    "\n",
    "Cost\n",
    "\n",
    "$\\sum_{t=0}^T{x_t^TQ_tx_t + u_t^TRu_t}$\n",
    "\n",
    "Here we assume full state observation such that $H = \\mathbb{I}^n$, thus the Kalman Filtering is irrelevant. The full system of equations for the solution to the above problem is \n",
    "\n",
    "Estimation \n",
    "\n",
    "$\\hat{x}_{t+1} = A\\hat{x}_t + Bu_t + K_t(y_t - H\\hat{x}_t)$\n",
    "\n",
    "$K_t = A\\Sigma_t^eH^T(H\\Sigma_t^eH^T + \\Omega^\\omega)^{-1}$\n",
    "\n",
    "$\\Sigma_{t+1}^x =KH\\Sigma_t^eA^T + (A−BL_t)\\Sigma_t^x(A−BL_t)$\n",
    "\n",
    "$\\Sigma_0^x =x_0x_0^T$\n",
    "\n",
    "Control \n",
    "\n",
    "$u_t = -L_t\\hat{x}_t$\n",
    "\n",
    "$L_t = (B^TS_{t+1}^xB + R + \\sum_n{C_n^T(S_{t+1}^x+S_{t+1}^e)C_n})^{-1}B^TS_{t+1}^xA$\n",
    "\n",
    "$S_t^x = Q_t + A^TS_{t+1}^x(A-BL_t)$\n",
    "\n",
    "$S_T^e = Q_T$\n",
    "\n",
    "$S_t^e = A^TS_{t+1}^xBL_t + (A-K_tH)S_{t+1}^e(A-K_tH)$\n",
    "\n",
    "$S_T^e = 0$\n",
    "\n",
    "but in this simplified case, we let $K_t=AH^{-1}$ and $\\omega=0$ to yield an altered set of control equations which are independent of $K_t$: \n",
    "\n",
    "$u_t = -L_t\\hat{x}_t$\n",
    "\n",
    "$L_t = (R + B^TS_{t+1}^xB + \\sum_n{C_n^T(S_{t+1}^x+S_{t+1}^e)C_n})^{-1}B^TS_{t+1}^xA$\n",
    "\n",
    "$S_t^x = Q_t + A^TS_{t+1}^x(A-BL_t)$\n",
    "\n",
    "$S_T^x = Q_T$\n",
    "\n",
    "$S_t^e = A^TS_{t+1}^xBL_t$\n",
    "\n",
    "$S_T^e = 0$"
   ]
  },
  {
   "cell_type": "code",
   "execution_count": null,
   "metadata": {},
   "outputs": [],
   "source": [
    "def forward_recursion(A,B,H,Cs,Sige,Sigx,Omega):\n",
    "    "
   ]
  },
  {
   "cell_type": "code",
   "execution_count": 199,
   "metadata": {},
   "outputs": [],
   "source": [
    "def backward_recursion_SDN(A,B,Cs,R,Qs):\n",
    "    Q = Qs[-1]\n",
    "    S = Qs[-1]\n",
    "    S_list = [S]\n",
    "    L_list = []\n",
    "    Se = np.zeros_like(S)\n",
    "    H = np.eye(A.shape[0])\n",
    "    H[-1][-1] = 0\n",
    "    for Q in Qs[-2::-1]:\n",
    "        Csum = np.zeros_like(Cs[0].T@Cs[0])\n",
    "        for C in Cs:\n",
    "            Csum += C.T@(S+Se)@C\n",
    "        L = -np.linalg.inv(R + B.T@S@B + Csum)@B.T@S@A\n",
    "        Se = A.T@S@B@L + (A).T@Se@(A)\n",
    "        S = Q + A.T@S@(A-B@L)\n",
    "#         L = compute_law(A,B,R,Q,S)\n",
    "#         S = backward_recurse(A,B,R,Q,S)\n",
    "        L_list.append(L)\n",
    "        S_list.append(S)\n",
    "    return L_list[::-1]"
   ]
  },
  {
   "cell_type": "code",
   "execution_count": 200,
   "metadata": {},
   "outputs": [
    {
     "name": "stderr",
     "output_type": "stream",
     "text": [
      "/Users/spencerw/miniconda3/envs/bmi/lib/python3.6/site-packages/numpy/core/numeric.py:538: ComplexWarning: Casting complex values to real discards the imaginary part\n",
      "  return array(a, dtype, copy=False, order=order)\n"
     ]
    },
    {
     "data": {
      "text/plain": [
       "[<matplotlib.lines.Line2D at 0x1259da860>]"
      ]
     },
     "execution_count": 200,
     "metadata": {},
     "output_type": "execute_result"
    },
    {
     "data": {
      "image/png": "[encoded data removed]",
      "text/plain": [
       "<Figure size 432x288 with 1 Axes>"
      ]
     },
     "metadata": {
      "needs_background": "light"
     },
     "output_type": "display_data"
    }
   ],
   "source": [
    "sig_u = 0.5\n",
    "C_list = [\n",
    "    B@[\n",
    "        [sig_u, 0],\n",
    "        [0, sig_u]\n",
    "    ],\n",
    "    B@[\n",
    "        [0, sig_u],\n",
    "        [-sig_u, 0]\n",
    "    ]\n",
    "]\n",
    "L_list = backward_recursion_SDN(A,B,C_list,R,Q_list)\n",
    "L_eigs = []\n",
    "for L in L_list:\n",
    "    L_eigs.append(np.linalg.eig(L.T@L)[0][0])\n",
    "plt.plot(L_eigs)"
   ]
  },
  {
   "cell_type": "code",
   "execution_count": 195,
   "metadata": {},
   "outputs": [
    {
     "data": {
      "text/plain": [
       "<matplotlib.patches.Circle at 0x1257f71d0>"
      ]
     },
     "execution_count": 195,
     "metadata": {},
     "output_type": "execute_result"
    },
    {
     "data": {
      "image/png": "[encoded data removed]",
      "text/plain": [
       "<Figure size 432x288 with 1 Axes>"
      ]
     },
     "metadata": {
      "needs_background": "light"
     },
     "output_type": "display_data"
    }
   ],
   "source": [
    "# main loop \n",
    "x = np.array([px0, py0, vx0, vy0, fx0, fy0, 1]).reshape(-1,1)\n",
    "x_list = [x]\n",
    "u_list = []\n",
    "for i,t in enumerate(times):\n",
    "    noise_sum = np.zeros_like(x)\n",
    "    if i == len(times)-1:\n",
    "        break\n",
    "    # compute control\n",
    "    u = L_list[i]@x\n",
    "    u_list.append(u)\n",
    "    # run dynamic\n",
    "    for C in C_list:\n",
    "        noise_sum += np.random.normal()*C@u\n",
    "    x = A@x + B@u + noise_sum\n",
    "    x_list.append(x.reshape(-1,1))\n",
    "    \n",
    "fig = plt.figure()\n",
    "ax = fig.add_subplot(1,1,1)\n",
    "ax.axis('square')\n",
    "lim = 12\n",
    "ax.set_xlim(-1,lim)\n",
    "ax.set_ylim(-1,lim)\n",
    "posx = [x[0] for x in x_list]\n",
    "posy = [x[1] for x in x_list]\n",
    "vel_mag = [np.sqrt(x[2]**2+x[3]**2)[0] for x in x_list]\n",
    "\n",
    "steps=10\n",
    "c = np.asarray(vel_mag)\n",
    "c -= np.min(c)\n",
    "c = c/np.max(c)\n",
    "it=0\n",
    "while it<c.size-steps:\n",
    "    x_segm = posx[it:it+steps+1]\n",
    "    y_segm = posy[it:it+steps+1]\n",
    "    c_segm = plt.cm.jet( c[it+steps//2] )\n",
    "    ax.plot(x_segm, y_segm, c=c_segm)\n",
    "    it += steps\n",
    "\n",
    "for i, target in enumerate(targets):\n",
    "    ax.add_artist(plt.Circle((target[0],target[1]),0.5,color='r'))\n",
    "    ax.add_artist(plt.Text(target[0],target[1],str(i+1),FontSize=14))\n",
    "ax.add_artist(plt.Circle((endpoint[0],endpoint[1]),0.5,color='g'))"
   ]
  },
  {
   "cell_type": "code",
   "execution_count": 181,
   "metadata": {},
   "outputs": [
    {
     "data": {
      "text/plain": [
       "[<matplotlib.lines.Line2D at 0x125125358>]"
      ]
     },
     "execution_count": 181,
     "metadata": {},
     "output_type": "execute_result"
    },
    {
     "data": {
      "image/png": "[encoded data removed]",
      "text/plain": [
       "<Figure size 432x288 with 1 Axes>"
      ]
     },
     "metadata": {
      "needs_background": "light"
     },
     "output_type": "display_data"
    }
   ],
   "source": [
    "plt.plot([u[0] for u in u_list])"
   ]
  },
  {
   "cell_type": "code",
   "execution_count": null,
   "metadata": {},
   "outputs": [],
   "source": []
  }
 ],
 "metadata": {
  "kernelspec": {
   "display_name": "Python 3",
   "language": "python",
   "name": "python3"
  },
  "language_info": {
   "codemirror_mode": {
    "name": "ipython",
    "version": 3
   },
   "file_extension": ".py",
   "mimetype": "text/x-python",
   "name": "python",
   "nbconvert_exporter": "python",
   "pygments_lexer": "ipython3",
   "version": "3.6.8"
  }
 },
 "nbformat": 4,
 "nbformat_minor": 2
}
